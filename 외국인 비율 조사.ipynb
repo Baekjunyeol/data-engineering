{
 "cells": [
  {
   "cell_type": "markdown",
   "id": "de50c8c1-6e24-4f8e-938a-a6680a3c8de6",
   "metadata": {},
   "source": [
    "# 테스트"
   ]
  },
  {
   "cell_type": "code",
   "execution_count": 13,
   "id": "38e7839a-afe4-49a0-b963-eca1c5806641",
   "metadata": {},
   "outputs": [
    {
     "name": "stdout",
     "output_type": "stream",
     "text": [
      "[['\\ufeff구 ', ' 계   ', ' 한국인  ', ' 등록외국인  ', ' 고령자  '], ['종로구', 152212.0, 141060.0, 11152.0, 28265.0], ['중구', 131390.0, 120963.0, 10427.0, 25353.0], ['용산구', 232482.0, 217756.0, 14726.0, 39478.0]]\n"
     ]
    }
   ],
   "source": [
    "import os, usecsv, re\n",
    "total = usecsv.opencsv('popSeoul2023.csv')\n",
    "newPop = usecsv.switch(total)\n",
    "print(newPop[:4])\n"
   ]
  },
  {
   "cell_type": "markdown",
   "id": "20271b47-5a72-4170-bd01-c5fb1ed415ba",
   "metadata": {},
   "source": [
    "### 외국인 비율 계산"
   ]
  },
  {
   "cell_type": "code",
   "execution_count": 19,
   "id": "3c697414-a1c6-496f-8b69-630884042354",
   "metadata": {},
   "outputs": [
    {
     "name": "stdout",
     "output_type": "stream",
     "text": [
      "종로구 7.3\n",
      "중구 7.9\n",
      "용산구 6.3\n",
      "성동구 2.4\n",
      "광진구 4.0\n",
      "동대문구 4.9\n",
      "중랑구 1.3\n",
      "성북구 2.7\n",
      "강북구 1.4\n",
      "도봉구 0.8\n",
      "노원구 0.9\n",
      "은평구 0.8\n",
      "서대문구 4.2\n",
      "마포구 2.9\n",
      "양천구 0.7\n",
      "강서구 0.9\n",
      "구로구 5.5\n",
      "금천구 5.4\n",
      "영등포구 5.6\n",
      "동작구 2.6\n",
      "관악구 2.9\n",
      "서초구 1.0\n",
      "강남구 0.9\n",
      "송파구 0.9\n",
      "강동구 0.9\n"
     ]
    }
   ],
   "source": [
    "i = newPop[1]\n",
    "bbb = i[3]/ (i[2] + i[3])* 100\n",
    "foreign = round(bbb,1)\n",
    "\n",
    "for b in newPop:\n",
    "    try : \n",
    "        foreigner_rate = round(b[3]/ (b[2] + b[3])* 100,1)\n",
    "        print(b[0], foreigner_rate)\n",
    "    except :\n",
    "        pass\n"
   ]
  },
  {
   "cell_type": "markdown",
   "id": "104ff5cc-f753-4969-90cb-0dacc5cf6dc9",
   "metadata": {},
   "source": [
    "### CSV 파일 변환 과정"
   ]
  },
  {
   "cell_type": "code",
   "execution_count": 23,
   "id": "406b75ac-45d5-4f8b-9737-64937007514c",
   "metadata": {},
   "outputs": [
    {
     "name": "stdout",
     "output_type": "stream",
     "text": [
      "[['구', '한국인', '외국인', '외국인 비율(%)'], ['종로구', 141060.0, 11152.0, 7.3]]\n"
     ]
    }
   ],
   "source": [
    "new = [['구', '한국인', '외국인', '외국인 비율(%)']]\n",
    "i = newPop[1]\n",
    "new.append([i[0],i[2],i[3],foreign])\n",
    "print(new)"
   ]
  },
  {
   "cell_type": "code",
   "execution_count": 26,
   "id": "391cd077-56d1-4154-9994-efd58d96c9b4",
   "metadata": {},
   "outputs": [
    {
     "name": "stdout",
     "output_type": "stream",
     "text": [
      "['종로구', 141060.0, 11152.0, 7.3]\n",
      "['중구', 120963.0, 10427.0, 7.9]\n",
      "['용산구', 217756.0, 14726.0, 6.3]\n",
      "['광진구', 336801.0, 14124.0, 4.0]\n",
      "['동대문구', 337574.0, 17310.0, 4.9]\n",
      "['서대문구', 308437.0, 13529.0, 4.2]\n",
      "['구로구', 395183.0, 22800.0, 5.5]\n",
      "['금천구', 229307.0, 13160.0, 5.4]\n",
      "['영등포구', 376614.0, 22385.0, 5.6]\n"
     ]
    }
   ],
   "source": [
    "for i in newPop:\n",
    "    try : \n",
    "        foreign = round(i[3]/ (i[2] + i[3])* 100,1)\n",
    "        if foreign> 3:\n",
    "            print([i[0], i[2], i[3], foreign])\n",
    "    except : \n",
    "        pass\n",
    "new = [['구', '한국인', '외국인', '외국인 비율(%)']]\n",
    "for i in newPop:\n",
    "    try :\n",
    "        foreign = round(i[3]/ (i[2] + i[3])* 100,1)\n",
    "        if foreign> 3:\n",
    "            new.append([i[0], i[2], i[3], foreign])\n",
    "    except:\n",
    "        pass"
   ]
  },
  {
   "cell_type": "code",
   "execution_count": 28,
   "id": "0c02cc7c-b96c-4570-9294-fbd595af328a",
   "metadata": {},
   "outputs": [],
   "source": [
    "usecsv.writecsv('3%이상 외국인2023.csv', new)"
   ]
  },
  {
   "cell_type": "code",
   "execution_count": null,
   "id": "c895913f-5bc1-417b-b87b-55506debdc27",
   "metadata": {},
   "outputs": [],
   "source": []
  }
 ],
 "metadata": {
  "kernelspec": {
   "display_name": "Python 3 (ipykernel)",
   "language": "python",
   "name": "python3"
  },
  "language_info": {
   "codemirror_mode": {
    "name": "ipython",
    "version": 3
   },
   "file_extension": ".py",
   "mimetype": "text/x-python",
   "name": "python",
   "nbconvert_exporter": "python",
   "pygments_lexer": "ipython3",
   "version": "3.11.7"
  }
 },
 "nbformat": 4,
 "nbformat_minor": 5
}
