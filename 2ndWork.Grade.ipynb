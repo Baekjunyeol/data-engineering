subject = ["physics", "calculus", "poetry", "history"]
grades = ["98", "97", "86", "88"]
gradebook = [["physics","98"],["calculus","97"],["poetry","86"],["history","88"]]
print(gradebook)
append1 = ["computer science", "100"]
gradebook.append(append1)
append2 = ["virtual art", "93"]
gradebook.append(append2)
print(gradebook)
gradebook[5].remove("93")
gradebook[5].append("98")
print(gradebook)

gradebook[2].remove("86")
gradebook[2].append("pass")
print(gradebook)

last_semester_gradebook = [["politics", 80], ["latin", 96], ["dance", 97], ["architecture", 65]]

full_gradebook = gradebook + last_semester_gradebook
print(full_gradebook)
