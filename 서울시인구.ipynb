{
 "cells": [
  {
   "cell_type": "code",
   "execution_count": 1,
   "id": "0d4475ba-248d-49d9-b6f5-efb769a21f30",
   "metadata": {},
   "outputs": [],
   "source": [
    "a = [['구', '전체', '내국인', '외국인'],\n",
    "    ['관악구', '519864', '502089', '17775'],\n",
    "    ['강남구', '547602', '542498', '5104'],\n",
    "    ['송파구', '686181', '679247', '6934'],\n",
    "    ['강동구', '428547', '424235', '4312']]\n",
    "f = open('abc.csv', 'w', newline='', encoding='utf-8-sig')"
   ]
  },
  {
   "cell_type": "code",
   "execution_count": 2,
   "id": "7ae6e137-fe1c-4870-82f4-52ed8f715e28",
   "metadata": {},
   "outputs": [],
   "source": [
    "import csv\n",
    "csvobject = csv.writer(f, delimiter= ',')"
   ]
  },
  {
   "cell_type": "code",
   "execution_count": 3,
   "id": "e2f19fe4-f372-4cca-86f8-a2e400a5114f",
   "metadata": {},
   "outputs": [],
   "source": [
    "csvobject.writerows(a)\n",
    "# csv.writer() -csv형 리스트를 파일에 쓸 수 있게 함, delimiter -> 짜를 변수, 기본값은 ','로 되어있음\n",
    "f.close()"
   ]
  },
  {
   "cell_type": "code",
   "execution_count": 4,
   "id": "2ebdd9a5-9d4c-4e54-918f-d5b5d80bfa25",
   "metadata": {},
   "outputs": [],
   "source": [
    "def writecsv(파일이름, the_list):\n",
    "    with oepn(파일이름, 'w', newline='', encoding= 'utf-8-sig') as f:\n",
    "        a= csv.writer(f, delimiter)\n",
    "        a.writerows(the_list)"
   ]
  },
  {
   "cell_type": "code",
   "execution_count": null,
   "id": "83bc857d-37d7-4cd4-bc97-a8c2e99512c3",
   "metadata": {},
   "outputs": [],
   "source": []
  }
 ],
 "metadata": {
  "kernelspec": {
   "display_name": "Python 3 (ipykernel)",
   "language": "python",
   "name": "python3"
  },
  "language_info": {
   "codemirror_mode": {
    "name": "ipython",
    "version": 3
   },
   "file_extension": ".py",
   "mimetype": "text/x-python",
   "name": "python",
   "nbconvert_exporter": "python",
   "pygments_lexer": "ipython3",
   "version": "3.11.7"
  }
 },
 "nbformat": 4,
 "nbformat_minor": 5
}
