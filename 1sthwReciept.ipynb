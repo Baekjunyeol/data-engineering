{
  "nbformat": 4,
  "nbformat_minor": 0,
  "metadata": {
    "colab": {
      "provenance": [],
      "authorship_tag": "ABX9TyM3bTXRij3RH62imxwJYU7P",
      "include_colab_link": true
    },
    "kernelspec": {
      "name": "python3",
      "display_name": "Python 3"
    },
    "language_info": {
      "name": "python"
    }
  },
  "cells": [
    {
      "cell_type": "markdown",
      "metadata": {
        "id": "view-in-github",
        "colab_type": "text"
      },
      "source": [
        "<a href=\"https://colab.research.google.com/github/Baekjunyeol/data-engineering/blob/main/1sthwReciept.ipynb\" target=\"_parent\"><img src=\"https://colab.research.google.com/assets/colab-badge.svg\" alt=\"Open In Colab\"/></a>"
      ]
    },
    {
      "cell_type": "code",
      "execution_count": 1,
      "metadata": {
        "id": "OLy83dKwoeId",
        "outputId": "4dbdf6c7-8426-4583-dca0-d623392c9d74",
        "colab": {
          "base_uri": "https://localhost:8080/"
        }
      },
      "outputs": [
        {
          "output_type": "stream",
          "name": "stdout",
          "text": [
            "Customer One Items:\n",
            "Luxurious Lamp. Glass and iron. 36 inches tall. Brown with cream shade.\n",
            "Customer One Total:\n",
            "333.09119999999996\n"
          ]
        }
      ],
      "source": [
        "lovely_loveseat_description=\"Lovely Loveseat. Tufted polyester blend on wood. 32 inches high x 40 inches wide x 30 inches deep. Red or white.\"\n",
        "lovely_loveseat_price = 254.00\n",
        "stylish_settee_description=\"Stylish Settee. Faux leather on birch. 29.50 inches high x 54.75 inches wide x 28 inches deep. Black.\"\n",
        "stylish_settee_price =180.50\n",
        "luxurious_lamp_description = \"Luxurious Lamp. Glass and iron. 36 inches tall. Brown with cream shade.\"\n",
        "luxurious_lamp_price = 52.15\n",
        "sales_tax = 0.088\n",
        "customer_one_total = 0\n",
        "customer_one_itemization = \"\"\n",
        "customer_one_total += lovely_loveseat_price\n",
        "customer_one_itemization = customer_one_itemization\n",
        "customer_one_total += luxurious_lamp_price\n",
        "customer_one_itemization += luxurious_lamp_description\n",
        "customer_one_tax = customer_one_total * sales_tax\n",
        "customer_one_total += customer_one_tax\n",
        "print(\"Customer One Items:\")\n",
        "print(customer_one_itemization)\n",
        "print(\"Customer One Total:\")\n",
        "print(customer_one_total)"
      ]
    }
  ]
}