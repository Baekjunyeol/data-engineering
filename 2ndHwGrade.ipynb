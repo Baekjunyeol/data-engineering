{
  "nbformat": 4,
  "nbformat_minor": 0,
  "metadata": {
    "colab": {
      "provenance": [],
      "authorship_tag": "ABX9TyNrrIwDnImutss25OhCJ0dw",
      "include_colab_link": true
    },
    "kernelspec": {
      "name": "python3",
      "display_name": "Python 3"
    },
    "language_info": {
      "name": "python"
    }
  },
  "cells": [
    {
      "cell_type": "markdown",
      "metadata": {
        "id": "view-in-github",
        "colab_type": "text"
      },
      "source": [
        "<a href=\"https://colab.research.google.com/github/Baekjunyeol/data-engineering/blob/main/2ndHwGrade.ipynb\" target=\"_parent\"><img src=\"https://colab.research.google.com/assets/colab-badge.svg\" alt=\"Open In Colab\"/></a>"
      ]
    },
    {
      "cell_type": "code",
      "execution_count": 16,
      "metadata": {
        "colab": {
          "base_uri": "https://localhost:8080/"
        },
        "id": "2gU9RI2jo89t",
        "outputId": "8eabd221-2852-42eb-8567-dd4cf4ffb747"
      },
      "outputs": [
        {
          "output_type": "stream",
          "name": "stdout",
          "text": [
            "[['physics', '98'], ['calculus', '97'], ['poetry', '86'], ['history', '88']]\n"
          ]
        }
      ],
      "source": [
        "subject = [\"physics\", \"calculus\", \"poetry\", \"history\"]\n",
        "grades = [\"98\", \"97\", \"86\", \"88\"]\n",
        "gradebook = [[\"physics\",\"98\"],[\"calculus\",\"97\"],[\"poetry\",\"86\"],[\"history\",\"88\"]]\n",
        "print(gradebook)"
      ]
    },
    {
      "cell_type": "code",
      "source": [
        "append1 = [\"computer science\", \"100\"]\n",
        "gradebook.append(append1)\n",
        "append2 = [\"virtual art\", \"93\"]\n",
        "gradebook.append(append2)\n",
        "print(gradebook)"
      ],
      "metadata": {
        "colab": {
          "base_uri": "https://localhost:8080/"
        },
        "id": "ep5eIvb3pHmy",
        "outputId": "6846b7a7-b1b1-45b2-a158-95de5891650e"
      },
      "execution_count": 17,
      "outputs": [
        {
          "output_type": "stream",
          "name": "stdout",
          "text": [
            "[['physics', '98'], ['calculus', '97'], ['poetry', '86'], ['history', '88'], ['computer science', '100'], ['virtual art', '93']]\n"
          ]
        }
      ]
    },
    {
      "cell_type": "code",
      "source": [
        "gradebook[5].remove(\"93\")\n",
        "gradebook[5].append(\"98\")\n",
        "print(gradebook)"
      ],
      "metadata": {
        "colab": {
          "base_uri": "https://localhost:8080/"
        },
        "id": "nW0m8O9PqFux",
        "outputId": "b99fe1da-2356-453e-f954-1488c347acca"
      },
      "execution_count": 18,
      "outputs": [
        {
          "output_type": "stream",
          "name": "stdout",
          "text": [
            "[['physics', '98'], ['calculus', '97'], ['poetry', '86'], ['history', '88'], ['computer science', '100'], ['virtual art', '98']]\n"
          ]
        }
      ]
    },
    {
      "cell_type": "code",
      "source": [
        "gradebook[2].remove(\"86\")\n",
        "gradebook[2].append(\"pass\")\n",
        "print(gradebook)"
      ],
      "metadata": {
        "colab": {
          "base_uri": "https://localhost:8080/"
        },
        "id": "f-zblNZTqHWy",
        "outputId": "bc40434b-a9e8-45a8-bdfd-8a19c7f5f170"
      },
      "execution_count": 19,
      "outputs": [
        {
          "output_type": "stream",
          "name": "stdout",
          "text": [
            "[['physics', '98'], ['calculus', '97'], ['poetry', 'pass'], ['history', '88'], ['computer science', '100'], ['virtual art', '98']]\n"
          ]
        }
      ]
    },
    {
      "cell_type": "code",
      "source": [
        "last_semester_gradebook = [[\"politics\", 80], [\"latin\", 96], [\"dance\", 97], [\"architecture\", 65]]\n",
        "\n",
        "full_gradebook = gradebook + last_semester_gradebook\n",
        "print(full_gradebook)"
      ],
      "metadata": {
        "colab": {
          "base_uri": "https://localhost:8080/"
        },
        "id": "pl0GnU69qP-L",
        "outputId": "833aecd2-cec4-4eb0-af95-42ae6e630e01"
      },
      "execution_count": 20,
      "outputs": [
        {
          "output_type": "stream",
          "name": "stdout",
          "text": [
            "[['physics', '98'], ['calculus', '97'], ['poetry', 'pass'], ['history', '88'], ['computer science', '100'], ['virtual art', '98'], ['politics', 80], ['latin', 96], ['dance', 97], ['architecture', 65]]\n"
          ]
        }
      ]
    }
  ]
}