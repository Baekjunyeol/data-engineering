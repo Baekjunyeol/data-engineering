{
 "cells": [
  {
   "cell_type": "code",
   "execution_count": 1,
   "id": "4fbbfcc7",
   "metadata": {
    "ExecuteTime": {
     "end_time": "2025-05-27T14:04:02.573892Z",
     "start_time": "2025-05-27T14:04:02.231008Z"
    }
   },
   "outputs": [],
   "source": [
    "import sqlite3\n",
    "import matplotlib.pyplot as plt\n",
    "from matplotlib import font_manager, rc\n",
    "\n"
   ]
  },
  {
   "cell_type": "markdown",
   "id": "e1fa91ec",
   "metadata": {},
   "source": [
    "### 윈도우 한글 폰트 설정 (예: 맑은 고딕)"
   ]
  },
  {
   "cell_type": "code",
   "execution_count": 2,
   "id": "8c163ac3",
   "metadata": {
    "ExecuteTime": {
     "end_time": "2025-05-27T14:04:02.585763Z",
     "start_time": "2025-05-27T14:04:02.582512Z"
    }
   },
   "outputs": [],
   "source": [
    "font_path = \"C:/Windows/Fonts/malgun.ttf\"\n",
    "font_name = font_manager.FontProperties(fname=font_path).get_name()\n",
    "rc('font', family=font_name)"
   ]
  },
  {
   "cell_type": "markdown",
   "id": "677e368b",
   "metadata": {},
   "source": [
    "### DB 연결함수"
   ]
  },
  {
   "cell_type": "code",
   "execution_count": 3,
   "id": "42f2f406",
   "metadata": {
    "ExecuteTime": {
     "end_time": "2025-05-27T14:04:02.596224Z",
     "start_time": "2025-05-27T14:04:02.592942Z"
    }
   },
   "outputs": [],
   "source": [
    "DB_Name = '학교식당 조사.db'\n",
    "\n",
    "\n",
    "def connect_db():\n",
    "    conn = sqlite3.connect(DB_Name)\n",
    "    cur = conn.cursor()\n",
    "    return conn, cur\n",
    "\n",
    "def create_table():\n",
    "    conn, cur = connect_db()\n",
    "    cur.execute(\n",
    "        'CREATE TABLE IF NOT EXISTS restaurants '\n",
    "        '(id INTEGER PRIMARY KEY AUTOINCREMENT, '\n",
    "        'name TEXT NOT NULL, '\n",
    "        'score REAL NOT NULL CHECK(score >= 1 AND score <= 5))')\n",
    "\n",
    "    conn.commit()\n",
    "    conn.close()"
   ]
  },
  {
   "cell_type": "markdown",
   "id": "882ca06d-88bc-4dd6-b6da-b8ba9fd2ca85",
   "metadata": {},
   "source": [
    "### 식당 입력 구현"
   ]
  },
  {
   "cell_type": "code",
   "execution_count": 4,
   "id": "00c16c65-c5fe-4466-a2cf-c803ff7477d7",
   "metadata": {},
   "outputs": [],
   "source": [
    "def insert_restaurant():\n",
    "    name = input(\"맛집 이름을 입력하세요: \")\n",
    "    while True:\n",
    "        try:\n",
    "            score = float(input(\"평점 (1.0~5.0) 입력하세요: \"))\n",
    "            if 1 <= score <= 5:\n",
    "                score = round(score, 1)\n",
    "                break\n",
    "            else:\n",
    "                print(\"1 이상 5 이하 숫자를 입력하세요.\")\n",
    "        except:\n",
    "            print(\"숫자로 입력해주세요.\")\n",
    "\n",
    "    conn, cur = connect_db()\n",
    "    cur.execute('INSERT INTO restaurants (name, score) VALUES (?, ?)', (name, score))\n",
    "    conn.commit()\n",
    "    conn.close()\n",
    "    print(\"등록 완료!\")\n"
   ]
  },
  {
   "cell_type": "code",
   "execution_count": 5,
   "id": "28a3bfff-eecb-4872-a187-114d2f039076",
   "metadata": {},
   "outputs": [],
   "source": [
    "def list_restaurants():\n",
    "    conn, cur = connect_db()\n",
    "    cur.execute('SELECT * FROM restaurants')\n",
    "    rows = cur.fetchall()\n",
    "    conn.close()\n",
    "\n",
    "    if not rows:\n",
    "        print(\"기록된 맛집이 없습니다.\")\n",
    "        return\n",
    "\n",
    "    print(\"ID\\t맛집 이름\\t평점\")\n",
    "    print(\"-\" * 30)\n",
    "    for r in rows:\n",
    "        print(f\"{r[0]}\\t{r[1]}\\t{r[2]}\")\n"
   ]
  },
  {
   "cell_type": "markdown",
   "id": "2c6a8380-db62-4987-a48f-8dfe9db43a0e",
   "metadata": {},
   "source": [
    "### 식당 목록 갱신"
   ]
  },
  {
   "cell_type": "code",
   "execution_count": 6,
   "id": "43fb3ad2-d851-4314-8e68-a32bb8f44131",
   "metadata": {},
   "outputs": [],
   "source": [
    "def update_restaurant():\n",
    "    list_restaurants()\n",
    "    try:\n",
    "        rid = int(input(\"수정할 맛집 ID를 입력하세요: \"))\n",
    "    except:\n",
    "        print(\"숫자를 입력하세요.\")\n",
    "        return\n",
    "\n",
    "    conn, cur = connect_db()\n",
    "    cur.execute('SELECT * FROM restaurants WHERE id = ?', (rid,))\n",
    "    row = cur.fetchone()\n",
    "    if not row:\n",
    "        print(\"해당 ID가 없습니다.\")\n",
    "        conn.close()\n",
    "        return\n",
    "\n",
    "    name = input(f\"새 이름 입력 (현재: {row[1]}) [엔터 시 유지]: \")\n",
    "    if name.strip() == '':\n",
    "        name = row[1]\n",
    "\n",
    "    while True:\n",
    "        score_input = input(f\"새 평점 입력 (1.0~5.0) (현재: {row[2]}) [엔터 시 유지]: \")\n",
    "        if score_input.strip() == '':\n",
    "            score = row[2]\n",
    "            break\n",
    "        try:\n",
    "            score = float(score_input)\n",
    "            if 1 <= score <= 5:\n",
    "                score = round(score, 1)\n",
    "                break\n",
    "            else:\n",
    "                print(\"1 이상 5 이하 숫자를 입력하세요.\")\n",
    "        except:\n",
    "            print(\"숫자로 입력해주세요.\")\n",
    "\n",
    "    cur.execute('UPDATE restaurants SET name = ?, score = ? WHERE id = ?', (name, score, rid))\n",
    "    conn.commit()\n",
    "    conn.close()\n",
    "    print(\"수정 완료!\")"
   ]
  },
  {
   "cell_type": "markdown",
   "id": "2443abf1-ae07-45d7-9c3c-282b21408c0f",
   "metadata": {},
   "source": [
    "### 식당 데이터 삭제"
   ]
  },
  {
   "cell_type": "code",
   "execution_count": 7,
   "id": "8aa7dca4-c036-4247-889a-b179624777da",
   "metadata": {},
   "outputs": [],
   "source": [
    "def delete_restaurant():\n",
    "    list_restaurants()\n",
    "    try:\n",
    "        rid = int(input(\"삭제할 맛집 ID를 입력하세요: \"))\n",
    "    except:\n",
    "        print(\"숫자를 입력하세요.\")\n",
    "        return\n",
    "\n",
    "    conn, cur = connect_db()\n",
    "    cur.execute('SELECT * FROM restaurants WHERE id = ?', (rid,))\n",
    "    row = cur.fetchone()\n",
    "    if not row:\n",
    "        print(\"해당 ID가 없습니다.\")\n",
    "        conn.close()\n",
    "        return\n",
    "\n",
    "    confirm = input(f\"{row[1]}을(를) 삭제할까요? (y/n): \").lower()\n",
    "    if confirm == 'y':\n",
    "        cur.execute('DELETE FROM restaurants WHERE id = ?', (rid,))\n",
    "        conn.commit()\n",
    "        print(\"삭제 완료!\")\n",
    "    else:\n",
    "        print(\"삭제 취소.\")\n",
    "    conn.close()"
   ]
  },
  {
   "cell_type": "markdown",
   "id": "7b1d68d3",
   "metadata": {},
   "source": [
    "### 평점 분포 히스토그램 구현"
   ]
  },
  {
   "cell_type": "code",
   "execution_count": 8,
   "id": "3e52cfe9",
   "metadata": {
    "ExecuteTime": {
     "end_time": "2025-05-27T14:04:02.607318Z",
     "start_time": "2025-05-27T14:04:02.602887Z"
    }
   },
   "outputs": [],
   "source": [
    "def visualize_scores_boxplot():\n",
    "    conn, cur = connect_db()\n",
    "    cur.execute('SELECT name, score FROM restaurants')\n",
    "    data = cur.fetchall()\n",
    "    conn.close()\n",
    "\n",
    "    if not data:\n",
    "        print(\"평점 데이터가 없습니다.\")\n",
    "        return\n",
    "\n",
    "    # 식당 이름별 평점 리스트 묶기\n",
    "    scores_by_name = {}\n",
    "    for name, score in data:\n",
    "        scores_by_name.setdefault(name, []).append(score)\n",
    "\n",
    "    names = list(scores_by_name.keys())\n",
    "    scores = list(scores_by_name.values())\n",
    "\n",
    "    plt.figure(figsize=(10, 6))\n",
    "    plt.boxplot(scores, labels=names)\n",
    "    plt.title('식당별 평점 분포 (박스플롯)')\n",
    "    plt.xlabel('식당 이름')\n",
    "    plt.ylabel('평점')\n",
    "    plt.xticks(rotation=45, ha='right')\n",
    "    plt.ylim(0, 5.5)\n",
    "    plt.tight_layout()\n",
    "    plt.show()"
   ]
  },
  {
   "cell_type": "markdown",
   "id": "0a4777e9",
   "metadata": {},
   "source": [
    "### 식당별 평균 평점 막대그래프"
   ]
  },
  {
   "cell_type": "code",
   "execution_count": 9,
   "id": "18f51c5d",
   "metadata": {
    "ExecuteTime": {
     "end_time": "2025-05-27T14:04:02.855429Z",
     "start_time": "2025-05-27T14:04:02.850239Z"
    }
   },
   "outputs": [],
   "source": [
    "def visualize_avg_score_per_restaurant():\n",
    "    \"\"\"식당별 평균 평점 + 투표 개수 표시 막대그래프\"\"\"\n",
    "\n",
    "    conn, cur = connect_db()\n",
    "    cur.execute('SELECT name, AVG(score), COUNT(score) FROM restaurants GROUP BY name')\n",
    "    data = cur.fetchall()\n",
    "    conn.close()\n",
    "\n",
    "    if not data:\n",
    "        print(\"등록된 맛집이 없습니다.\")\n",
    "        return\n",
    "\n",
    "    names = [row[0] for row in data]\n",
    "    avg_scores = [row[1] for row in data]\n",
    "    counts = [row[2] for row in data]\n",
    "\n",
    "    plt.figure(figsize=(10, 6))\n",
    "    bars = plt.bar(names, avg_scores, color='skyblue')\n",
    "    plt.title('식당별 평균 평점 및 투표 개수')\n",
    "    plt.xlabel('식당 이름')\n",
    "    plt.ylabel('평균 평점')\n",
    "    plt.ylim(1, 5)\n",
    "    plt.xticks(rotation=45, ha='right')\n",
    "    plt.tight_layout()\n",
    "\n",
    "    # 각 막대 위에 투표 개수 표시\n",
    "    for bar, count in zip(bars, counts):\n",
    "        height = bar.get_height()\n",
    "        plt.text(bar.get_x() + bar.get_width()/2, height + 0.1, f'투표수: {count}', ha='center', va='bottom', fontsize=8)\n",
    "\n",
    "    plt.show()"
   ]
  },
  {
   "cell_type": "markdown",
   "id": "7f86be60",
   "metadata": {},
   "source": [
    "### 실행"
   ]
  },
  {
   "cell_type": "code",
   "execution_count": null,
   "id": "ba05ff4f-6239-4d74-a3be-a60c4aa4ebcd",
   "metadata": {
    "ExecuteTime": {
     "end_time": "2025-05-27T14:04:07.371645Z",
     "start_time": "2025-05-27T14:04:02.962592Z"
    },
    "jp-MarkdownHeadingCollapsed": true
   },
   "outputs": [
    {
     "name": "stdout",
     "output_type": "stream",
     "text": [
      "\n",
      "1. 맛집 등록\n",
      "2. 맛집 목록\n",
      "3. 맛집 수정\n",
      "4. 맛집 삭제\n",
      "5. 평점 분포 시각화\n",
      "6. 식당별 평균 평점 그래프\n",
      "7. 종료\n"
     ]
    },
    {
     "name": "stdin",
     "output_type": "stream",
     "text": [
      "선택:  6\n"
     ]
    },
    {
     "data": {
      "image/png": "[encoded data removed]",
      "text/plain": [
       "<Figure size 1000x600 with 1 Axes>"
      ]
     },
     "metadata": {},
     "output_type": "display_data"
    },
    {
     "name": "stdout",
     "output_type": "stream",
     "text": [
      "\n",
      "1. 맛집 등록\n",
      "2. 맛집 목록\n",
      "3. 맛집 수정\n",
      "4. 맛집 삭제\n",
      "5. 평점 분포 시각화\n",
      "6. 식당별 평균 평점 그래프\n",
      "7. 종료\n"
     ]
    },
    {
     "name": "stdin",
     "output_type": "stream",
     "text": [
      "선택:  5\n"
     ]
    },
    {
     "data": {
      "image/png": "[encoded data removed]",
      "text/plain": [
       "<Figure size 1000x600 with 1 Axes>"
      ]
     },
     "metadata": {},
     "output_type": "display_data"
    },
    {
     "name": "stdout",
     "output_type": "stream",
     "text": [
      "\n",
      "1. 맛집 등록\n",
      "2. 맛집 목록\n",
      "3. 맛집 수정\n",
      "4. 맛집 삭제\n",
      "5. 평점 분포 시각화\n",
      "6. 식당별 평균 평점 그래프\n",
      "7. 종료\n"
     ]
    }
   ],
   "source": [
    "def main():\n",
    "    create_table()\n",
    "    while True:\n",
    "        print(\"\\n1. 맛집 등록\")\n",
    "        print(\"2. 맛집 목록\")\n",
    "        print(\"3. 맛집 수정\")\n",
    "        print(\"4. 맛집 삭제\")\n",
    "        print(\"5. 평점 분포 시각화\")\n",
    "        print(\"6. 식당별 평균 평점 그래프\")\n",
    "        print(\"7. 종료\")\n",
    "        choice = input(\"선택: \")\n",
    "\n",
    "        if choice == '1':\n",
    "            insert_restaurant()\n",
    "        elif choice == '2':\n",
    "            list_restaurants()\n",
    "        elif choice == '3':\n",
    "            update_restaurant()\n",
    "        elif choice == '4':\n",
    "            delete_restaurant()\n",
    "        elif choice == '5':\n",
    "            visualize_scores_boxplot()\n",
    "        elif choice == '6':\n",
    "            visualize_avg_score_per_restaurant()\n",
    "        elif choice == '7':\n",
    "            print(\"종료합니다.\")\n",
    "            break\n",
    "        else:\n",
    "            print(\"잘못된 입력입니다.\")\n",
    "\n",
    "\n",
    "if __name__ == \"__main__\":\n",
    "    main()\n"
   ]
  },
  {
   "cell_type": "code",
   "execution_count": null,
   "id": "c93f7cd4",
   "metadata": {},
   "outputs": [],
   "source": []
  },
  {
   "cell_type": "code",
   "execution_count": null,
   "id": "6b266f34",
   "metadata": {},
   "outputs": [],
   "source": []
  }
 ],
 "metadata": {
  "kernelspec": {
   "display_name": "Python 3 (ipykernel)",
   "language": "python",
   "name": "python3"
  },
  "language_info": {
   "codemirror_mode": {
    "name": "ipython",
    "version": 3
   },
   "file_extension": ".py",
   "mimetype": "text/x-python",
   "name": "python",
   "nbconvert_exporter": "python",
   "pygments_lexer": "ipython3",
   "version": "3.11.7"
  }
 },
 "nbformat": 4,
 "nbformat_minor": 5
}
